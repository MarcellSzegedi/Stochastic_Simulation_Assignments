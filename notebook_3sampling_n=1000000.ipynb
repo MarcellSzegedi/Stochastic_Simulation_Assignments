{
 "cells": [
  {
   "cell_type": "markdown",
   "metadata": {},
   "source": [
    "## Assignment 1\n",
    "### Stochastic Simulation\n",
    "\n",
    "Team:\n",
    "- Yuxin\n",
    "- Marcel\n",
    "- Koen"
   ]
  },
  {
   "cell_type": "code",
   "execution_count": null,
   "metadata": {},
   "outputs": [],
   "source": [
    "import numpy as np\n",
    "from scipy.stats import qmc\n",
    "import matplotlib.pyplot as plt\n",
    "from sympy import isprime"
   ]
  },
  {
   "cell_type": "markdown",
   "metadata": {},
   "source": [
    "Define the function that let's us randomly sample in three different ways:\n",
    "- Pure Random Sampling\n",
    "- Latin Hypercube Sampling\n",
    "- Orthogonal Sampling"
   ]
  },
  {
   "cell_type": "code",
   "execution_count": null,
   "metadata": {},
   "outputs": [],
   "source": [
    "# Define the random sampling function\n",
    "def random_sample(n, x_range=(0,10), y_range=(0,10), sampler='pure_random_sampling'):\n",
    "    if sampler == 'pure_random_sampling':\n",
    "        # Pure random sampling\n",
    "        x_coords = np.random.uniform(x_range[0], x_range[1], n)\n",
    "        y_coords = np.random.uniform(y_range[0], y_range[1], n)\n",
    "        points = np.stack((x_coords, y_coords), axis=-1)\n",
    "\n",
    "    elif sampler == 'latin_hypercube_sampling':\n",
    "        # Latin Hypercube Sampling\n",
    "        lhc = qmc.LatinHypercube(d=2)\n",
    "        points = lhc.random(n)\n",
    "        points[:, 0] = points[:, 0] * (x_range[1] - x_range[0]) + x_range[0]\n",
    "        points[:, 1] = points[:, 1] * (y_range[1] - y_range[0]) + y_range[0]\n",
    "\n",
    "    elif sampler == 'orthogonal_sampling':\n",
    "        # Orthogonal Sampling: Check if n is the square of a prime number\n",
    "        sqrt_n = int(np.sqrt(n))\n",
    "        if sqrt_n**2 != n or not isprime(sqrt_n):\n",
    "            raise ValueError(\"n must be the square of a prime number for orthogonal sampling.\")\n",
    "        # Use Latin Hypercube Sampling for orthogonal sampling\n",
    "        lhc = qmc.LatinHypercube(d=2)\n",
    "        points = lhc.random(n)\n",
    "        points[:, 0] = points[:, 0] * (x_range[1] - x_range[0]) + x_range[0]\n",
    "        points[:, 1] = points[:, 1] * (y_range[1] - y_range[0]) + y_range[0]\n",
    "\n",
    "\n",
    "    else:\n",
    "        raise ValueError(\"Invalid sampler specified.\")\n",
    "    \n",
    "    return points\n"
   ]
  },
  {
   "cell_type": "code",
   "execution_count": null,
   "metadata": {},
   "outputs": [],
   "source": [
    "# Define Mandelbrot set calculation function\n",
    "def mandelbrot(point, max_iter=1000):\n",
    "    z = 0\n",
    "    for i in range(max_iter):\n",
    "        z = z**2 + point\n",
    "        if abs(z) > 2:\n",
    "            return i\n",
    "    return max_iter\n"
   ]
  },
  {
   "cell_type": "code",
   "execution_count": null,
   "metadata": {},
   "outputs": [],
   "source": [
    "# Plotting function for the Mandelbrot set\n",
    "def plot_mandelbrot(n=10000, x_range=(-2,1), y_range=(-1.5, 1.5), max_iter=1000, sampler='pure_random_sampling'):\n",
    "    points = random_sample(n, x_range, y_range, sampler)\n",
    "    complex_points = points[:, 0] + 1j * points[:, 1]\n",
    "    iterations = np.array([mandelbrot(point, max_iter) for point in complex_points])\n",
    "\n",
    "    # Separate points inside and outside the Mandelbrot set\n",
    "    in_set = iterations == max_iter\n",
    "    outside_set = ~in_set\n",
    "\n",
    "    # Use log-scaled colors\n",
    "    colors = np.log(iterations + 1)\n",
    "\n",
    "    plt.figure(figsize=(20, 15), dpi=150)\n",
    "\n",
    "    # Plot points inside the set in black\n",
    "    plt.scatter(complex_points[in_set].real, complex_points[in_set].imag, color='black', s=0.5, marker='.')\n",
    "\n",
    "    # Plot escaping points with a color gradient\n",
    "    plt.scatter(complex_points[outside_set].real, complex_points[outside_set].imag, \n",
    "                c=colors[outside_set], cmap='inferno', s=0.1, marker='.')\n",
    "\n",
    "    # Add color bar and other plot details\n",
    "    plt.colorbar(label=\"Escape Time (log scale)\")\n",
    "    plt.xlim(x_range)\n",
    "    plt.ylim(y_range)\n",
    "    plt.title(f\"Mandelbrot Set with {n} Points ({sampler})\")\n",
    "    plt.xlabel(\"Real\")\n",
    "    plt.ylabel(\"Imaginary\")\n",
    "    plt.show()\n"
   ]
  },
  {
   "cell_type": "code",
   "execution_count": null,
   "metadata": {},
   "outputs": [],
   "source": [
    "plot_mandelbrot(1000000, sampler='pure_random_sampling')\n",
    "\n",
    "# Plot Mandelbrot set using Latin Hypercube Sampling\n",
    "plot_mandelbrot(n=10000000, x_range=(-2,1), y_range=(-1.5, 1.5), max_iter=1000, sampler='latin_hypercube_sampling')\n",
    "\n",
    "# Plot Mandelbrot set using Orthogonal Sampling\n",
    "# Ensure n is a square of a prime number, such as 49 (7^2) or 25 (5^2)\n",
    "plot_mandelbrot(n=1018081, x_range=(-2,1), y_range=(-1.5, 1.5), max_iter=1000, sampler='orthogonal_sampling')"
   ]
  },
  {
   "cell_type": "code",
   "execution_count": null,
   "metadata": {},
   "outputs": [],
   "source": []
  }
 ],
 "metadata": {
  "kernelspec": {
   "display_name": "Python 3 (ipykernel)",
   "language": "python",
   "name": "python3"
  },
  "language_info": {
   "codemirror_mode": {
    "name": "ipython",
    "version": 3
   },
   "file_extension": ".py",
   "mimetype": "text/x-python",
   "name": "python",
   "nbconvert_exporter": "python",
   "pygments_lexer": "ipython3",
   "version": "3.12.4"
  }
 },
 "nbformat": 4,
 "nbformat_minor": 4
}
