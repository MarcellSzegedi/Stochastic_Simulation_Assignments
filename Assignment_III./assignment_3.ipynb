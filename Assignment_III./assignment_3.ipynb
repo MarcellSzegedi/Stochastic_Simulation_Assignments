{
 "cells": [
  {
   "cell_type": "markdown",
   "metadata": {},
   "source": [
    "# Assignment II.\n",
    "### *Stochastic Simulation*\n",
    "#### Group 6\n",
    "- Marcell Szegedi - 15722635\n",
    "- Yuxin Dong - 15550397\n",
    "- Koen Verlaan - 11848316\n",
    "\n",
    "**Git Repository**: https://github.com/MarcellSzegedi/Stochastic_Simulation_Assignments.git"
   ]
  },
  {
   "cell_type": "markdown",
   "metadata": {},
   "source": [
    "**Import Libraries**"
   ]
  },
  {
   "cell_type": "code",
   "execution_count": null,
   "metadata": {},
   "outputs": [],
   "source": [
    "import os\n",
    "from IPython.display import clear_output\n",
    "\n",
    "import numpy as np\n",
    "import simpy\n",
    "import matplotlib.pyplot as plt\n",
    "import random\n",
    "from scipy import stats\n",
    "import math"
   ]
  }
 ],
 "metadata": {
  "kernelspec": {
   "display_name": "base",
   "language": "python",
   "name": "python3"
  },
  "language_info": {
   "name": "python",
   "version": "3.12.4"
  }
 },
 "nbformat": 4,
 "nbformat_minor": 2
}
