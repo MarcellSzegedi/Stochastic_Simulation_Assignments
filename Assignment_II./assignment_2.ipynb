{
 "cells": [
  {
   "cell_type": "markdown",
   "metadata": {},
   "source": [
    "# Assignment II.\n",
    "### *Stochastic Simulation*\n",
    "#### Group 6\n",
    "- Marcell Szegedi - 15722635\n",
    "- Yuxin Dong - 15550397\n",
    "- Koen Verlaan - 11848316"
   ]
  },
  {
   "cell_type": "markdown",
   "metadata": {},
   "source": [
    "**Import Libraries**"
   ]
  },
  {
   "cell_type": "code",
   "execution_count": 11,
   "metadata": {},
   "outputs": [],
   "source": [
    "import numpy as np\n",
    "import simpy\n",
    "import matplotlib.pyplot as plt\n",
    "import random\n",
    "from scipy import stats"
   ]
  },
  {
   "cell_type": "markdown",
   "metadata": {},
   "source": [
    "**Output Libraries**"
   ]
  },
  {
   "cell_type": "code",
   "execution_count": 12,
   "metadata": {},
   "outputs": [],
   "source": [
    "output_task_2 = r\"Figures/task_2.png\"\n",
    "output_taks_3 = r\"Figures/task_3.png\"\n",
    "output_task_4 = r\"Figures/task_4.png\""
   ]
  },
  {
   "cell_type": "markdown",
   "metadata": {},
   "source": [
    "# Models"
   ]
  },
  {
   "cell_type": "markdown",
   "metadata": {},
   "source": [
    "##### M/M/n"
   ]
  },
  {
   "cell_type": "code",
   "execution_count": 7,
   "metadata": {},
   "outputs": [],
   "source": [
    "class MMnQueueExperiment:\n",
    "    def __init__(\n",
    "            self,\n",
    "            env: simpy.Environment,\n",
    "            server: simpy.Resource,\n",
    "            n_jobs: int,\n",
    "            avg_arrival_time: float,\n",
    "            avg_service_time: float):\n",
    "        self.env = env\n",
    "        self.server = server\n",
    "        self.n_jobs = n_jobs\n",
    "        self.avg_arrival_time = avg_arrival_time\n",
    "        self.avg_service_time = avg_service_time\n",
    "        self.waiting_times = []\n",
    "\n",
    "    @classmethod\n",
    "    def run_experiment(\n",
    "            cls,\n",
    "            n_servers: int,\n",
    "            n_jobs: int,\n",
    "            avg_arrival_time: float,\n",
    "            avg_service_time: float\n",
    "    ) -> np.ndarray:\n",
    "        env = simpy.Environment()\n",
    "        server = simpy.Resource(env, capacity=n_servers)\n",
    "        experiment = cls(env, server, n_jobs, avg_arrival_time, avg_service_time)\n",
    "        experiment.env.process(experiment.job_arrival())\n",
    "        experiment.env.run()\n",
    "        return np.array(experiment.waiting_times)\n",
    "\n",
    "    def job_arrival(self):\n",
    "        for _ in range(self.n_jobs):\n",
    "            yield self.env.timeout(np.random.exponential(self.avg_arrival_time))\n",
    "            self.env.process(self.job_life())\n",
    "\n",
    "    def job_life(self):\n",
    "        arrival_time = self.env.now\n",
    "        with self.server.request() as request:\n",
    "            yield request\n",
    "            service_start_time = self.env.now\n",
    "            yield self.env.timeout(np.random.exponential(self.avg_service_time))\n",
    "\n",
    "        self.waiting_times.append(service_start_time - arrival_time)"
   ]
  },
  {
   "cell_type": "markdown",
   "metadata": {},
   "source": [
    "##### M/D/n"
   ]
  },
  {
   "cell_type": "code",
   "execution_count": 8,
   "metadata": {},
   "outputs": [],
   "source": [
    "class MDnQueueExperiment:\n",
    "    def __init__(\n",
    "            self,\n",
    "            env: simpy.Environment,\n",
    "            server: simpy.Resource,\n",
    "            n_jobs: int,\n",
    "            avg_arrival_time: float,\n",
    "            det_service_time: float):\n",
    "        self.env = env\n",
    "        self.server = server\n",
    "        self.n_jobs = n_jobs\n",
    "        self.avg_arrival_time = avg_arrival_time\n",
    "        self.det_service_time = det_service_time\n",
    "        self.waiting_times = []\n",
    "\n",
    "    @classmethod\n",
    "    def run_experiment(\n",
    "            cls,\n",
    "            n_servers: int,\n",
    "            n_jobs: int,\n",
    "            avg_arrival_time: float,\n",
    "            det_service_time: float\n",
    "    ) -> np.ndarray:\n",
    "        env = simpy.Environment()\n",
    "        server = simpy.Resource(env, capacity=n_servers)\n",
    "        experiment = cls(env, server, n_jobs, avg_arrival_time, det_service_time)\n",
    "        experiment.env.process(experiment.job_arrival())\n",
    "        experiment.env.run()\n",
    "        return np.array(experiment.waiting_times)\n",
    "\n",
    "    def job_arrival(self):\n",
    "        for _ in range(self.n_jobs):\n",
    "            yield self.env.timeout(np.random.exponential(self.avg_arrival_time))\n",
    "            self.env.process(self.job_life())\n",
    "\n",
    "    def job_life(self):\n",
    "        arrival_time = self.env.now\n",
    "        with self.server.request() as request:\n",
    "            yield request\n",
    "            service_start_time = self.env.now\n",
    "            yield self.env.timeout(self.det_service_time)\n",
    "\n",
    "        self.waiting_times.append(service_start_time - arrival_time)"
   ]
  },
  {
   "cell_type": "markdown",
   "metadata": {},
   "source": [
    "##### M/H/n"
   ]
  },
  {
   "cell_type": "code",
   "execution_count": 9,
   "metadata": {},
   "outputs": [],
   "source": [
    "class MHnQueueExperiment:\n",
    "    def __init__(\n",
    "            self,\n",
    "            env: simpy.Environment,\n",
    "            server: simpy.Resource,\n",
    "            n_jobs: int,\n",
    "            avg_arrival_time: float,\n",
    "            p_exp_1: float,\n",
    "            p_exp_2: float,\n",
    "            avg_service_time_1: float,\n",
    "            avg_service_time_2: float):\n",
    "        self.env = env\n",
    "        self.server = server\n",
    "        self.n_jobs = n_jobs\n",
    "        self.avg_arrival_time = avg_arrival_time\n",
    "        self.p_exp_1 = p_exp_1\n",
    "        self.avg_service_time_1 = avg_service_time_1\n",
    "        self.p_exp_2 = p_exp_2\n",
    "        self.avg_service_time_2 = avg_service_time_2\n",
    "        self.waiting_times = []\n",
    "\n",
    "    @classmethod\n",
    "    def run_experiment(\n",
    "            cls,\n",
    "            n_servers: int,\n",
    "            n_jobs: int,\n",
    "            avg_arrival_time: float,\n",
    "            p_exp_1: float,\n",
    "            p_exp_2: float,\n",
    "            avg_service_time_1: float,\n",
    "            avg_service_time_2: float\n",
    "    ) -> np.ndarray:\n",
    "        env = simpy.Environment()\n",
    "        server = simpy.Resource(env, capacity=n_servers)\n",
    "        experiment = cls(env, server, n_jobs, avg_arrival_time, p_exp_1, p_exp_2, avg_service_time_1, avg_service_time_2)\n",
    "        experiment.env.process(experiment.job_arrival())\n",
    "        experiment.env.run()\n",
    "        return np.array(experiment.waiting_times)\n",
    "\n",
    "    def job_arrival(self):\n",
    "        for _ in range(self.n_jobs):\n",
    "            yield self.env.timeout(np.random.exponential(self.avg_arrival_time))\n",
    "            self.env.process(self.job_life())\n",
    "\n",
    "    def job_life(self):\n",
    "        arrival_time = self.env.now\n",
    "        with self.server.request() as request:\n",
    "            yield request\n",
    "            service_start_time = self.env.now\n",
    "            yield self.env.timeout(self.hyper_exp_sampling(self.p_exp_1,\n",
    "                                                           self.p_exp_2,\n",
    "                                                           self.avg_service_time_1,\n",
    "                                                           self.avg_service_time_2))\n",
    "\n",
    "        self.waiting_times.append(service_start_time - arrival_time)\n",
    "\n",
    "    @staticmethod\n",
    "    def hyper_exp_sampling(p1: float, p2: float, avg_service_time_1: float, avg_service_time_2: float) -> float:\n",
    "        if p1 + p2 != 1 or not (0 <= p1 <= 1) or not (0 <= p2 <= 1):\n",
    "            raise ValueError(\"Probabilities must sum to 1.\")\n",
    "        if avg_service_time_1 <= 0 or avg_service_time_2 <= 0:\n",
    "            raise ValueError(\"Parameters of the exponential distributions are not valid.\")\n",
    "\n",
    "        if random.random() < p1:\n",
    "            return np.random.exponential(avg_service_time_1)\n",
    "        else:\n",
    "            return np.random.exponential(avg_service_time_2)"
   ]
  },
  {
   "cell_type": "markdown",
   "metadata": {},
   "source": [
    "##### M/M/n with Priority to smaller jobs"
   ]
  },
  {
   "cell_type": "code",
   "execution_count": 6,
   "metadata": {},
   "outputs": [],
   "source": [
    "class MMnPRIORITYQueueExperiment:\n",
    "    def __init__(\n",
    "            self,\n",
    "            env: simpy.Environment,\n",
    "            server: simpy.Resource,\n",
    "            n_jobs: int,\n",
    "            avg_arrival_time: float,\n",
    "            avg_service_time: float):\n",
    "        self.env = env\n",
    "        self.server = server\n",
    "        self.n_jobs = n_jobs\n",
    "        self.avg_arrival_time = avg_arrival_time\n",
    "        self.avg_service_time = avg_service_time\n",
    "        self.waiting_times = []\n",
    "\n",
    "    @classmethod\n",
    "    def run_experiment(\n",
    "            cls,\n",
    "            n_servers: int,\n",
    "            n_jobs: int,\n",
    "            avg_arrival_time: float,\n",
    "            avg_service_time: float\n",
    "    ) -> np.ndarray:\n",
    "        env = simpy.Environment()\n",
    "        server = simpy.PriorityResource(env, capacity=n_servers)\n",
    "        experiment = cls(env, server, n_jobs, avg_arrival_time, avg_service_time)\n",
    "        experiment.env.process(experiment.job_arrival())\n",
    "        experiment.env.run()\n",
    "        return np.array(experiment.waiting_times)\n",
    "\n",
    "    def job_arrival(self):\n",
    "        for _ in range(self.n_jobs):\n",
    "            yield self.env.timeout(np.random.exponential(self.avg_arrival_time))\n",
    "            job_size = np.random.exponential(self.avg_service_time)\n",
    "            self.env.process(self.job_life(job_size))\n",
    "\n",
    "    def job_life(self, job_size: float):\n",
    "        arrival_time = self.env.now\n",
    "        with self.server.request(priority=job_size) as request:\n",
    "            yield request\n",
    "            service_start_time = self.env.now\n",
    "            yield self.env.timeout(job_size)\n",
    "\n",
    "        self.waiting_times.append(service_start_time - arrival_time)"
   ]
  },
  {
   "cell_type": "markdown",
   "metadata": {},
   "source": [
    "# Hypothesis Testing"
   ]
  },
  {
   "cell_type": "markdown",
   "metadata": {},
   "source": [
    "##### Functions"
   ]
  },
  {
   "cell_type": "code",
   "execution_count": 18,
   "metadata": {},
   "outputs": [],
   "source": [
    "def one_tailed_z_test(sample_1: np.ndarray, sample_2: np.ndarray) -> float:\n",
    "    \"\"\"The function perform a one-tailed z-test for the difference of means of the two samples,\n",
    "    where the null hypothesis is that the mean of the sample_1 is less than or equal to the mean of the sample_2.\"\"\"\n",
    "    mean_1 = np.mean(sample_1)\n",
    "    mean_2 = np.mean(sample_2)\n",
    "    var_1 = np.var(sample_1, ddof=1)\n",
    "    var_2 = np.var(sample_2, ddof=1)\n",
    "    \n",
    "    se = np.sqrt(var_1 / len(sample_1) + var_2 / len(sample_2))\n",
    "\n",
    "    z = (mean_1  - mean_2) / se\n",
    "    p_value = 1 - stats.norm.cdf(z)\n",
    "\n",
    "    return p_value"
   ]
  },
  {
   "cell_type": "markdown",
   "metadata": {},
   "source": [
    "##### M/M/1 vs M/M/2"
   ]
  },
  {
   "cell_type": "code",
   "execution_count": 28,
   "metadata": {},
   "outputs": [
    {
     "name": "stdout",
     "output_type": "stream",
     "text": [
      "The mean waiting time for MM1 is 0.4825\n",
      "The mean waiting time for MM2 is 0.0345\n",
      "p-value for the MM1 vs MM2 queue: 0.0000\n",
      "Theoretical mean waiting time for MM1: 0.5000\n"
     ]
    }
   ],
   "source": [
    "# Fixing seed for reproducibility\n",
    "np.random.seed(100)\n",
    "random.seed(100)\n",
    "\n",
    "#####################\n",
    "\n",
    "# Hypothesis testing for the MM1 vs MMn queues\n",
    "\n",
    "# Test Settings\n",
    "sample_size = 10000\n",
    "cut_off_size = 1000\n",
    "mean_arrival_time = 1\n",
    "mean_service_time = 0.5\n",
    "\n",
    "waiting_times_mm1 = MMnQueueExperiment.run_experiment(1, sample_size + cut_off_size, mean_arrival_time, mean_service_time)\n",
    "waiting_times_mm2 = MMnQueueExperiment.run_experiment(2, sample_size + cut_off_size, mean_arrival_time, mean_service_time)\n",
    "\n",
    "p_value = one_tailed_z_test(waiting_times_mm1[cut_off_size:], waiting_times_mm2[cut_off_size:])\n",
    "print(f\"The mean waiting time for MM1 is {np.mean(waiting_times_mm1[cut_off_size:]):.4f}\")\n",
    "print(f\"The mean waiting time for MM2 is {np.mean(waiting_times_mm2[cut_off_size:]):.4f}\")\n",
    "print(f\"p-value for the MM1 vs MM2 queue: {p_value:.4f}\")\n",
    "\n",
    "# Theoretical waiting time for MM1\n",
    "rho = mean_service_time / mean_arrival_time\n",
    "theoretical_mean_waiting_time = rho * mean_service_time / (1 - rho)\n",
    "print(f\"Theoretical mean waiting time for MM1: {theoretical_mean_waiting_time:.4f}\")"
   ]
  },
  {
   "cell_type": "markdown",
   "metadata": {},
   "source": [
    "##### M/M/1 vs M/M/4"
   ]
  },
  {
   "cell_type": "code",
   "execution_count": 29,
   "metadata": {},
   "outputs": [
    {
     "name": "stdout",
     "output_type": "stream",
     "text": [
      "The mean waiting time for MM1 is 0.5372\n",
      "The mean waiting time for MM2 is 0.0002\n",
      "p-value for the MM1 vs MM2 queue: 0.0000\n"
     ]
    }
   ],
   "source": [
    "# Fixing seed for reproducibility\n",
    "np.random.seed(200)\n",
    "random.seed(200)\n",
    "\n",
    "#####################\n",
    "\n",
    "# Hypothesis testing for the MM1 vs MMn queues\n",
    "\n",
    "# Test Settings\n",
    "sample_size = 10000\n",
    "cut_off_size = 1000\n",
    "mean_arrival_time = 1\n",
    "mean_service_time = 0.5\n",
    "\n",
    "waiting_times_mm1 = MMnQueueExperiment.run_experiment(1, sample_size + cut_off_size, mean_arrival_time, mean_service_time)\n",
    "waiting_times_mm2 = MMnQueueExperiment.run_experiment(4, sample_size + cut_off_size, mean_arrival_time, mean_service_time)\n",
    "\n",
    "p_value = one_tailed_z_test(waiting_times_mm1[cut_off_size:], waiting_times_mm2[cut_off_size:])\n",
    "print(f\"The mean waiting time for MM1 is {np.mean(waiting_times_mm1[cut_off_size:]):.4f}\")\n",
    "print(f\"The mean waiting time for MM2 is {np.mean(waiting_times_mm2[cut_off_size:]):.4f}\")\n",
    "print(f\"p-value for the MM1 vs MM2 queue: {p_value:.4f}\")"
   ]
  },
  {
   "cell_type": "markdown",
   "metadata": {},
   "source": [
    "##### M/M/2 vs M/M/4"
   ]
  },
  {
   "cell_type": "code",
   "execution_count": 30,
   "metadata": {},
   "outputs": [
    {
     "name": "stdout",
     "output_type": "stream",
     "text": [
      "The mean waiting time for MM1 is 0.0378\n",
      "The mean waiting time for MM2 is 0.0001\n",
      "p-value for the MM1 vs MM2 queue: 0.0000\n"
     ]
    }
   ],
   "source": [
    "# Fixing seed for reproducibility\n",
    "np.random.seed(300)\n",
    "random.seed(300)\n",
    "\n",
    "#####################\n",
    "\n",
    "# Hypothesis testing for the MM1 vs MMn queues\n",
    "\n",
    "# Test Settings\n",
    "sample_size = 10000\n",
    "cut_off_size = 1000\n",
    "mean_arrival_time = 1\n",
    "mean_service_time = 0.5\n",
    "\n",
    "waiting_times_mm1 = MMnQueueExperiment.run_experiment(2, sample_size + cut_off_size, mean_arrival_time, mean_service_time)\n",
    "waiting_times_mm2 = MMnQueueExperiment.run_experiment(4, sample_size + cut_off_size, mean_arrival_time, mean_service_time)\n",
    "\n",
    "p_value = one_tailed_z_test(waiting_times_mm1[cut_off_size:], waiting_times_mm2[cut_off_size:])\n",
    "print(f\"The mean waiting time for MM1 is {np.mean(waiting_times_mm1[cut_off_size:]):.4f}\")\n",
    "print(f\"The mean waiting time for MM2 is {np.mean(waiting_times_mm2[cut_off_size:]):.4f}\")\n",
    "print(f\"p-value for the MM1 vs MM2 queue: {p_value:.4f}\")"
   ]
  },
  {
   "cell_type": "markdown",
   "metadata": {},
   "source": [
    "##### M/M/1 priority vs M/M/1"
   ]
  },
  {
   "cell_type": "markdown",
   "metadata": {},
   "source": [
    "##### M/M/1 priority vs M/M/4"
   ]
  }
 ],
 "metadata": {
  "kernelspec": {
   "display_name": "base",
   "language": "python",
   "name": "python3"
  },
  "language_info": {
   "codemirror_mode": {
    "name": "ipython",
    "version": 3
   },
   "file_extension": ".py",
   "mimetype": "text/x-python",
   "name": "python",
   "nbconvert_exporter": "python",
   "pygments_lexer": "ipython3",
   "version": "3.12.4"
  }
 },
 "nbformat": 4,
 "nbformat_minor": 2
}
